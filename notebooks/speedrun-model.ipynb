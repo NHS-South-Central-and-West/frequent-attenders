{
 "cells": [
  {
   "cell_type": "code",
   "execution_count": null,
   "id": "0",
   "metadata": {},
   "outputs": [],
   "source": [
    "import optuna\n",
    "\n",
    "import numpy as np\n",
    "import pandas as pd\n",
    "import catboost as cb\n",
    "\n",
    "from sklearn.dummy import DummyClassifier\n",
    "from sklearn.linear_model import LogisticRegression\n",
    "from sklearn.metrics import brier_score_loss\n",
    "from sklearn.model_selection import KFold, train_test_split\n",
    "\n",
    "pd.options.future.infer_string = True\n",
    "\n",
    "df = (\n",
    "    pd.read_csv(\n",
    "        '../data/train.csv', \n",
    "        dtype={\n",
    "            'attendance_category': 'str', \n",
    "            'stated_gender': 'str',\n",
    "            'treatment_function_code': 'str', \n",
    "            'palliative_care_description': 'str',\n",
    "            }\n",
    "        )\n",
    ")"
   ]
  },
  {
   "cell_type": "markdown",
   "id": "1",
   "metadata": {},
   "source": [
    "## EDA"
   ]
  },
  {
   "cell_type": "code",
   "execution_count": null,
   "id": "2",
   "metadata": {},
   "outputs": [],
   "source": [
    "df.shape"
   ]
  },
  {
   "cell_type": "code",
   "execution_count": null,
   "id": "3",
   "metadata": {},
   "outputs": [],
   "source": [
    "df.head()"
   ]
  },
  {
   "cell_type": "code",
   "execution_count": null,
   "id": "4",
   "metadata": {},
   "outputs": [],
   "source": [
    "df.info()"
   ]
  },
  {
   "cell_type": "code",
   "execution_count": null,
   "id": "5",
   "metadata": {},
   "outputs": [],
   "source": [
    "df.isna().sum()"
   ]
  },
  {
   "cell_type": "code",
   "execution_count": null,
   "id": "6",
   "metadata": {},
   "outputs": [],
   "source": [
    "df.nunique()"
   ]
  },
  {
   "cell_type": "code",
   "execution_count": null,
   "id": "7",
   "metadata": {},
   "outputs": [],
   "source": [
    "df.columns"
   ]
  },
  {
   "cell_type": "markdown",
   "id": "8",
   "metadata": {},
   "source": [
    "## Preprocessing"
   ]
  },
  {
   "cell_type": "code",
   "execution_count": null,
   "id": "9",
   "metadata": {},
   "outputs": [],
   "source": [
    "feats = ['organisation_code_provider', 'age_at_arrival',\n",
    "       'index_of_multiple_deprivation', 'stated_gender',\n",
    "       'arrival_mode_desc', 'attendance_category',\n",
    "       'long_term_condition_count_number', 'gp_practice_code',\n",
    "       'care_home_status', \n",
    "       'living_alone',\n",
    "       'disability_count_number',\n",
    "       'segmentation_bridges_to_health',]\n",
    "\n",
    "target = ['frequent_attender']"
   ]
  },
  {
   "cell_type": "code",
   "execution_count": null,
   "id": "10",
   "metadata": {},
   "outputs": [],
   "source": [
    "feats + target"
   ]
  },
  {
   "cell_type": "code",
   "execution_count": null,
   "id": "11",
   "metadata": {},
   "outputs": [],
   "source": [
    "df = df.dropna(subset=feats)"
   ]
  },
  {
   "cell_type": "code",
   "execution_count": null,
   "id": "12",
   "metadata": {},
   "outputs": [],
   "source": [
    "X = df[feats]\n",
    "y = df[target]\n",
    "\n",
    "X_train, X_test, y_train, y_test = train_test_split(X, y, test_size=0.3, random_state=42)"
   ]
  },
  {
   "cell_type": "code",
   "execution_count": null,
   "id": "13",
   "metadata": {},
   "outputs": [],
   "source": [
    "X_train.shape"
   ]
  },
  {
   "cell_type": "markdown",
   "id": "14",
   "metadata": {},
   "source": [
    "## Baseline Models"
   ]
  },
  {
   "cell_type": "code",
   "execution_count": null,
   "id": "15",
   "metadata": {},
   "outputs": [],
   "source": [
    "# naive baseline (using observed proportions for each class)\n",
    "\n",
    "clf = DummyClassifier()\n",
    "clf.fit(X_train.select_dtypes(exclude='str'), y_train)\n",
    "dummy_probs = clf.predict_proba(y_test)[:, 1]\n",
    "dummy_bsl = brier_score_loss(y_test, dummy_probs)\n",
    "\n",
    "print(f\"Brier Score: {dummy_bsl:.3f}\")"
   ]
  },
  {
   "cell_type": "code",
   "execution_count": null,
   "id": "16",
   "metadata": {},
   "outputs": [],
   "source": [
    "# simple logistic regression with one-hot encoding and standardisation\n",
    "\n",
    "from sklearn.pipeline import Pipeline\n",
    "from sklearn.compose import ColumnTransformer\n",
    "from sklearn.preprocessing import OneHotEncoder, StandardScaler\n",
    "\n",
    "cat_feats = ['organisation_code_provider', 'stated_gender', 'arrival_mode_desc', \n",
    "            'gp_practice_code', 'living_alone', 'attendance_category', 'care_home_status']\n",
    "num_feats = ['age_at_arrival', 'index_of_multiple_deprivation', 'long_term_condition_count_number', \n",
    "            'segmentation_bridges_to_health', 'disability_count_number']\n",
    "\n",
    "categorical_transformer = Pipeline(steps=[(\"encoder\", OneHotEncoder(handle_unknown='ignore'))])\n",
    "numeric_transformer = Pipeline(steps=[(\"scaler\", StandardScaler())])\n",
    "\n",
    "col_transformer = ColumnTransformer(\n",
    "    transformers=[\n",
    "        (\"num\", numeric_transformer, num_feats),\n",
    "        (\"cat\", categorical_transformer, cat_feats),\n",
    "    ]\n",
    ")\n",
    "\n",
    "preprocessor = Pipeline(steps=[(\"col_transformer\", col_transformer)])\n",
    "\n",
    "clf = Pipeline(\n",
    "    steps=[(\"preprocessor\", preprocessor), \n",
    "           (\"regressor\", LogisticRegression(max_iter=1000))]\n",
    ")\n",
    "\n",
    "clf.fit(X_train, np.ravel(y_train))\n",
    "\n",
    "log_probs = clf.predict_proba(X_test)[:, 1]\n",
    "log_bsl = brier_score_loss(y_test, log_probs)\n",
    "print(f\"Brier Score: {log_bsl:.3f}\")"
   ]
  },
  {
   "cell_type": "markdown",
   "id": "17",
   "metadata": {},
   "source": [
    "## Catboost"
   ]
  },
  {
   "cell_type": "code",
   "execution_count": null,
   "id": "18",
   "metadata": {},
   "outputs": [],
   "source": [
    "# simple model (no folds)\n",
    "\n",
    "# def objective(trial):\n",
    "\n",
    "#     params = {\n",
    "#         'iterations': 500,\n",
    "#         'learning_rate': trial.suggest_float('learning_rate', 1e-3, 0.1, log=True),\n",
    "#         \"depth\": trial.suggest_int(\"depth\", 1, 10),\n",
    "#         \"subsample\": trial.suggest_float(\"subsample\", 0.05, 1.0),\n",
    "#         \"colsample_bylevel\": trial.suggest_float(\"colsample_bylevel\", 0.05, 1.0),\n",
    "#         \"min_data_in_leaf\": trial.suggest_int(\"min_data_in_leaf\", 1, 100),\n",
    "#     }\n",
    "\n",
    "#     clf = cb.CatBoostClassifier(**params, silent=True, cat_features=cat_feats)\n",
    "#     clf.fit(X_train, y_train)\n",
    "#     probs = clf.predict_proba(X_test)\n",
    "#     bsl = brier_score_loss(y_test, probs)\n",
    "\n",
    "#     return bsl\n",
    "\n",
    "# study = optuna.create_study(direction='minimize')\n",
    "# study.optimize(objective, n_trials=20)"
   ]
  },
  {
   "cell_type": "code",
   "execution_count": null,
   "id": "19",
   "metadata": {},
   "outputs": [],
   "source": [
    "def objective(trial):\n",
    "\n",
    "    n_splits = 5\n",
    "\n",
    "    cv_scores = np.zeros(n_splits)\n",
    "\n",
    "    kf = KFold(n_splits=n_splits, shuffle=True)\n",
    "\n",
    "    params = {\n",
    "        'iterations': 150,\n",
    "        'learning_rate': trial.suggest_float('learning_rate', 1e-2, 0.3, log=True),\n",
    "        'depth': trial.suggest_int('depth', 5, 15),\n",
    "        'subsample': trial.suggest_float('subsample', 0.5, 1.0),\n",
    "        'colsample_bylevel': trial.suggest_float('colsample_bylevel', 0.4, 0.8),\n",
    "        'min_data_in_leaf': trial.suggest_int('min_data_in_leaf', 10, 100),\n",
    "    }\n",
    "\n",
    "    clf = cb.CatBoostClassifier(**params, silent=True)\n",
    "\n",
    "    # for loop to train and validate model        \n",
    "    for idx, (train_idx, val_idx) in enumerate(kf.split(X, y)):\n",
    "        # train/val split on folds\n",
    "        dtrain = cb.Pool(X.iloc[train_idx], y.iloc[train_idx], cat_features=cat_feats)\n",
    "        dval = cb.Pool(X.iloc[val_idx], y.iloc[val_idx], cat_features=cat_feats)\n",
    "    \n",
    "        # fit model with early stoppings after 10 rounds without improvement\n",
    "        clf.fit(\n",
    "            dtrain,\n",
    "            eval_set=dval,\n",
    "            early_stopping_rounds=10,\n",
    "        )\n",
    "\n",
    "        # compute validation probabilities\n",
    "        probs = clf.predict_proba(dval)[:, 1]\n",
    "        \n",
    "        # compute rmse for each fold\n",
    "        cv_scores[idx] = brier_score_loss(dval.get_label(), probs)\n",
    "\n",
    "    return cv_scores.mean()\n",
    "\n",
    "study = optuna.create_study(direction='minimize')\n",
    "study.optimize(objective, n_trials=30)"
   ]
  },
  {
   "cell_type": "code",
   "execution_count": null,
   "id": "20",
   "metadata": {},
   "outputs": [],
   "source": [
    "print('Best Hyperparameters:', study.best_params)\n",
    "print(f\"Best Brier Score: {study.best_value:.3f}\")"
   ]
  },
  {
   "cell_type": "markdown",
   "id": "21",
   "metadata": {},
   "source": [
    "## Evaluation"
   ]
  },
  {
   "cell_type": "code",
   "execution_count": null,
   "id": "22",
   "metadata": {},
   "outputs": [],
   "source": [
    "# brier skill score\n",
    "mean_prob = np.mean(y_test)\n",
    "ref_bsl = brier_score_loss(y_test, np.full_like(y_test, mean_prob))"
   ]
  },
  {
   "cell_type": "code",
   "execution_count": null,
   "id": "23",
   "metadata": {},
   "outputs": [],
   "source": [
    "best_params = study.best_params\n",
    "\n",
    "dtrain = cb.Pool(X_train, y_train, cat_features=cat_feats)\n",
    "dtest = cb.Pool(X_test, y_test, cat_features=cat_feats)\n",
    "\n",
    "clf = cb.CatBoostClassifier(**best_params, silent=True, random_state=42)\n",
    "\n",
    "clf.fit(dtrain)\n",
    "\n",
    "cb_probs = clf.predict_proba(dtest)[:, 1]\n",
    "cb_bsl = brier_score_loss(dtest.get_label(), cb_probs)\n",
    "cb_bss = 1 - (cb_bsl/ref_bsl)\n",
    "\n",
    "print(f\"Brier Score: {cb_bsl:.3f}\")\n",
    "print(f\"Reference Brier Score: {ref_bsl:.3f}\")\n",
    "print(f\"Brier Skill Score: {cb_bss:.3f}\")"
   ]
  },
  {
   "cell_type": "code",
   "execution_count": null,
   "id": "24",
   "metadata": {},
   "outputs": [],
   "source": [
    "clf.get_feature_importance(prettified=True)"
   ]
  },
  {
   "cell_type": "markdown",
   "id": "25",
   "metadata": {},
   "source": [
    "## Model Score"
   ]
  },
  {
   "cell_type": "code",
   "execution_count": null,
   "id": "26",
   "metadata": {},
   "outputs": [],
   "source": [
    "test_df = (\n",
    "    pd.read_csv(\n",
    "        'data/test.csv', \n",
    "        dtype={\n",
    "            'attendance_category': 'str', \n",
    "            'stated_gender': 'str',\n",
    "            }\n",
    "        )\n",
    ")"
   ]
  },
  {
   "cell_type": "code",
   "execution_count": null,
   "id": "27",
   "metadata": {},
   "outputs": [],
   "source": [
    "test_probs = clf.predict_proba(test_df[feats])[:, 1]\n",
    "\n",
    "test_mean_prob = np.mean(test_df['frequent_attender'])\n",
    "test_ref_bsl = brier_score_loss(test_df['frequent_attender'], np.full_like(test_df['frequent_attender'], test_mean_prob))\n",
    "\n",
    "test_bsl = brier_score_loss(test_df['frequent_attender'], test_probs)\n",
    "test_bss = 1 - (test_bsl/test_ref_bsl)\n",
    "\n",
    "print(f\"Brier Score: {test_bsl:.3f}\")\n",
    "print(f\"Reference Brier Score: {test_ref_bsl:.3f}\")\n",
    "print(f\"Brier Skill Score: {test_bss:.3f}\")"
   ]
  }
 ],
 "metadata": {
  "language_info": {
   "name": "python"
  }
 },
 "nbformat": 4,
 "nbformat_minor": 5
}
