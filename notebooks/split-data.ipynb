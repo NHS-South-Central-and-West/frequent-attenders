{
 "cells": [
  {
   "cell_type": "code",
   "execution_count": null,
   "id": "0",
   "metadata": {},
   "outputs": [],
   "source": [
    "import re\n",
    "\n",
    "import pandas as pd\n",
    "import numpy as np\n",
    "\n",
    "from sklearn.model_selection import train_test_split\n",
    "\n",
    "pd.options.future.infer_string = True"
   ]
  },
  {
   "cell_type": "code",
   "execution_count": null,
   "id": "1",
   "metadata": {},
   "outputs": [],
   "source": [
    "def to_snake_case_columns(df):\n",
    "    df.columns = [re.sub(r'[^0-9a-zA-Z]+', '_', col).strip('_').lower() for col in df.columns]\n",
    "    return df"
   ]
  },
  {
   "cell_type": "code",
   "execution_count": null,
   "id": "2",
   "metadata": {},
   "outputs": [],
   "source": [
    "df = (\n",
    "    pd.read_csv(\n",
    "        '../data/raw/sat_hack_data.csv', \n",
    "        dtype={\n",
    "            'Attendance_Category': 'str', \n",
    "            'Treatment_Function_Code': 'str', \n",
    "            'Palliative_Care_Description': 'str',\n",
    "            }\n",
    "        )\n",
    ")\n",
    "\n",
    "df = to_snake_case_columns(df)\n",
    "df['attendance_category'] = df['attendance_category'].replace('X', np.nan).astype(float)"
   ]
  },
  {
   "cell_type": "code",
   "execution_count": null,
   "id": "3",
   "metadata": {},
   "outputs": [],
   "source": [
    "df.head()"
   ]
  },
  {
   "cell_type": "code",
   "execution_count": null,
   "id": "4",
   "metadata": {},
   "outputs": [],
   "source": [
    "df.info()"
   ]
  },
  {
   "cell_type": "code",
   "execution_count": null,
   "id": "5",
   "metadata": {},
   "outputs": [],
   "source": [
    "df.columns"
   ]
  },
  {
   "cell_type": "code",
   "execution_count": null,
   "id": "6",
   "metadata": {},
   "outputs": [],
   "source": [
    "df[\"frequent_attender\"] = df[\"activity_within_12m_of_first_attend\"].map(lambda x: 1 if x >= 3 else 0)"
   ]
  },
  {
   "cell_type": "code",
   "execution_count": null,
   "id": "7",
   "metadata": {},
   "outputs": [],
   "source": [
    "df[['activity_within_12m_of_first_attend', 'frequent_attender']].head(10)"
   ]
  },
  {
   "cell_type": "code",
   "execution_count": null,
   "id": "8",
   "metadata": {},
   "outputs": [],
   "source": [
    "cols = ['nhs_number', 'organisation_code_provider',\n",
    "       'organisation_code_commissioner', 'age_at_arrival', 'lsoa_11',\n",
    "       'index_of_multiple_deprivation',\n",
    "       'index_of_multiple_deprivation_description', 'stated_gender',\n",
    "       'ethnic_category', 'accommodation_status_desc',\n",
    "       'lsoa_site_of_treatment_distance', 'arrival_datetime',\n",
    "       'arrival_mode_desc', 'attendance_category',\n",
    "       'departure_time_since_arrival', 'treatment_function_code',\n",
    "       'discharge_status_desc', 'destination_desc', 'acuity_desc',\n",
    "       'acuity_code_approved', 'long_term_condition_asthma_flag',\n",
    "       'long_term_condition_cancer_flag',\n",
    "       'long_term_condition_heart_failure_flag',\n",
    "       'long_term_condition_diabetes_flag', 'long_term_condition_renal_flag',\n",
    "       'long_term_condition_copd_flag', 'long_term_condition_dementia_flag',\n",
    "       'long_term_condition_count_number', 'gp_practice_code', 'gp_practice',\n",
    "       'patient_status', 'care_home_status', 'care_home_name', 'living_alone',\n",
    "       'palliative_care_flag', 'palliative_care_description',\n",
    "       'acutely_unwell_flag', 'disability_speech_flag',\n",
    "       'disability_hearing_flag', 'disability_sight_flag',\n",
    "       'disability_learning_disability_flag', 'disability_count_number',\n",
    "       'segmentation_bridges_to_health',\n",
    "       'segmentation_bridges_to_health_description',\n",
    "       'all_long_term_condition_count_number', 'all_long_term_condition_count',\n",
    "       'all_long_term_conditions', 'patient_registration_status', 'frequent_attender']"
   ]
  },
  {
   "cell_type": "code",
   "execution_count": null,
   "id": "9",
   "metadata": {},
   "outputs": [],
   "source": [
    "train_df, test_df = train_test_split(df[cols], test_size = 0.3, stratify=df['frequent_attender'], random_state=42)"
   ]
  },
  {
   "cell_type": "code",
   "execution_count": null,
   "id": "10",
   "metadata": {},
   "outputs": [],
   "source": [
    "print(f'{train_df['frequent_attender'].mean():.4f}')"
   ]
  },
  {
   "cell_type": "code",
   "execution_count": null,
   "id": "11",
   "metadata": {},
   "outputs": [],
   "source": [
    "print(f'{test_df['frequent_attender'].mean():.4f}')"
   ]
  },
  {
   "cell_type": "code",
   "execution_count": null,
   "id": "12",
   "metadata": {},
   "outputs": [],
   "source": [
    "train_df.columns"
   ]
  },
  {
   "cell_type": "code",
   "execution_count": null,
   "id": "13",
   "metadata": {},
   "outputs": [],
   "source": [
    "train_df.to_csv('train.csv', index=False)"
   ]
  },
  {
   "cell_type": "code",
   "execution_count": null,
   "id": "14",
   "metadata": {},
   "outputs": [],
   "source": [
    "df.isna().sum().sort_values()"
   ]
  },
  {
   "cell_type": "code",
   "execution_count": null,
   "id": "15",
   "metadata": {},
   "outputs": [],
   "source": [
    "test_df = test_df.drop(['palliative_care_description', 'accommodation_status_desc', 'treatment_function_code'], axis=1)"
   ]
  },
  {
   "cell_type": "code",
   "execution_count": null,
   "id": "16",
   "metadata": {},
   "outputs": [],
   "source": [
    "test_df = test_df.dropna()"
   ]
  },
  {
   "cell_type": "code",
   "execution_count": null,
   "id": "17",
   "metadata": {},
   "outputs": [],
   "source": [
    "test_df.shape"
   ]
  },
  {
   "cell_type": "code",
   "execution_count": null,
   "id": "18",
   "metadata": {},
   "outputs": [],
   "source": [
    "test_df.to_csv('../data/test.csv', index=False)"
   ]
  },
  {
   "cell_type": "code",
   "execution_count": null,
   "id": "19",
   "metadata": {},
   "outputs": [],
   "source": [
    "pd.read_csv('../data/train.csv')"
   ]
  }
 ],
 "metadata": {
  "language_info": {
   "name": "python"
  }
 },
 "nbformat": 4,
 "nbformat_minor": 5
}
