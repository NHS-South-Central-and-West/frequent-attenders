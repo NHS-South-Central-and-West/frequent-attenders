{
 "cells": [
  {
   "cell_type": "markdown",
   "id": "0",
   "metadata": {},
   "source": [
    "To do:\n",
    "\n",
    "- Deal with nulls\n",
    "- Identify subset of features (including feature engineering)\n",
    "- Consider preprocessing steps\n",
    "- Test orbital"
   ]
  },
  {
   "cell_type": "code",
   "execution_count": null,
   "id": "1",
   "metadata": {},
   "outputs": [],
   "source": [
    "import optuna\n",
    "\n",
    "import numpy as np\n",
    "import pandas as pd\n",
    "import catboost as cb\n",
    "\n",
    "from sklearn.dummy import DummyClassifier\n",
    "from sklearn.linear_model import LogisticRegression\n",
    "from sklearn.metrics import brier_score_loss\n",
    "from sklearn.model_selection import KFold, train_test_split\n",
    "\n",
    "pd.options.future.infer_string = True"
   ]
  },
  {
   "cell_type": "code",
   "execution_count": null,
   "id": "2",
   "metadata": {},
   "outputs": [],
   "source": [
    "df = pd.read_csv('data/train.csv')"
   ]
  },
  {
   "cell_type": "markdown",
   "id": "3",
   "metadata": {},
   "source": [
    "## Feature Engineering"
   ]
  },
  {
   "cell_type": "code",
   "execution_count": null,
   "id": "4",
   "metadata": {},
   "outputs": [],
   "source": [
    "feats = ['age_at_arrival', \n",
    "        'gp_practice_code', \n",
    "        'organisation_code_provider', \n",
    "        'lsoa_site_of_treatment_distance', # divide by 10\n",
    "        'departure_time_since_arrival', # potential data quality issues?\n",
    "        'arrival_mode', # grouping own transport, ambulance, other\n",
    "        'acuity_desc',\n",
    "        'long_term_condition_count_number',\n",
    "        'index_of_multiple_deprivation', \n",
    "        # 'segmentation_bridges_to_health',\n",
    "        'stated_gender', \n",
    "        'ethnic_category', # grouping white, non-white, unknown\n",
    "        # 'over_70', \n",
    "        # 'four_hour_wait', \n",
    "        # 'arrival_outside_core_gp_hours'\n",
    "        # 'completed_treatment'\n",
    "]"
   ]
  },
  {
   "cell_type": "markdown",
   "id": "5",
   "metadata": {},
   "source": [
    "Additional features to explore:\n",
    "\n",
    "- Date/time features?\n",
    "- Condition & disability flags PCA/clustering?\n",
    "- Discharge status"
   ]
  }
 ],
 "metadata": {
  "language_info": {
   "name": "python"
  }
 },
 "nbformat": 4,
 "nbformat_minor": 5
}
